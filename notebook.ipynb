{
 "cells": [
  {
   "cell_type": "code",
   "execution_count": 15,
   "metadata": {
    "tags": []
   },
   "outputs": [
    {
     "data": {
      "text/html": [
       "<div>\n",
       "<style scoped>\n",
       "    .dataframe tbody tr th:only-of-type {\n",
       "        vertical-align: middle;\n",
       "    }\n",
       "\n",
       "    .dataframe tbody tr th {\n",
       "        vertical-align: top;\n",
       "    }\n",
       "\n",
       "    .dataframe thead th {\n",
       "        text-align: right;\n",
       "    }\n",
       "</style>\n",
       "<table border=\"1\" class=\"dataframe\">\n",
       "  <thead>\n",
       "    <tr style=\"text-align: right;\">\n",
       "      <th></th>\n",
       "      <th>pk_sales_order</th>\n",
       "      <th>created_at</th>\n",
       "      <th>currency</th>\n",
       "      <th>currency_rate</th>\n",
       "      <th>country_code</th>\n",
       "      <th>postal_code</th>\n",
       "    </tr>\n",
       "  </thead>\n",
       "  <tbody>\n",
       "    <tr>\n",
       "      <th>0</th>\n",
       "      <td>1773b6bd4062d3805645553e1bff2849</td>\n",
       "      <td>2024-04-07 03:12:04.000</td>\n",
       "      <td>HUF</td>\n",
       "      <td>0.0026</td>\n",
       "      <td>HU</td>\n",
       "      <td>9437.0</td>\n",
       "    </tr>\n",
       "    <tr>\n",
       "      <th>1</th>\n",
       "      <td>4640a007be81c905de555addfc9067c9</td>\n",
       "      <td>2024-10-21 17:51:26.000</td>\n",
       "      <td>HUF</td>\n",
       "      <td>0.0025</td>\n",
       "      <td>HU</td>\n",
       "      <td>9422.0</td>\n",
       "    </tr>\n",
       "    <tr>\n",
       "      <th>2</th>\n",
       "      <td>48848489c69fa5d40e349243c0d1ddcc</td>\n",
       "      <td>2024-09-17 22:45:13.000</td>\n",
       "      <td>CZK</td>\n",
       "      <td>0.0397</td>\n",
       "      <td>CZ</td>\n",
       "      <td>19800.0</td>\n",
       "    </tr>\n",
       "    <tr>\n",
       "      <th>3</th>\n",
       "      <td>679cafb288112926c81f617a2f1e4f71</td>\n",
       "      <td>2024-09-17 14:21:53.000</td>\n",
       "      <td>HUF</td>\n",
       "      <td>0.0025</td>\n",
       "      <td>HU</td>\n",
       "      <td>9700.0</td>\n",
       "    </tr>\n",
       "    <tr>\n",
       "      <th>4</th>\n",
       "      <td>4a0c5231df766ac348a9aba2c681104a</td>\n",
       "      <td>2024-08-12 16:47:37.000</td>\n",
       "      <td>CZK</td>\n",
       "      <td>0.0396</td>\n",
       "      <td>CZ</td>\n",
       "      <td>51101.0</td>\n",
       "    </tr>\n",
       "  </tbody>\n",
       "</table>\n",
       "</div>"
      ],
      "text/plain": [
       "                     pk_sales_order               created_at currency  \\\n",
       "0  1773b6bd4062d3805645553e1bff2849  2024-04-07 03:12:04.000      HUF   \n",
       "1  4640a007be81c905de555addfc9067c9  2024-10-21 17:51:26.000      HUF   \n",
       "2  48848489c69fa5d40e349243c0d1ddcc  2024-09-17 22:45:13.000      CZK   \n",
       "3  679cafb288112926c81f617a2f1e4f71  2024-09-17 14:21:53.000      HUF   \n",
       "4  4a0c5231df766ac348a9aba2c681104a  2024-08-12 16:47:37.000      CZK   \n",
       "\n",
       "   currency_rate country_code  postal_code  \n",
       "0         0.0026           HU       9437.0  \n",
       "1         0.0025           HU       9422.0  \n",
       "2         0.0397           CZ      19800.0  \n",
       "3         0.0025           HU       9700.0  \n",
       "4         0.0396           CZ      51101.0  "
      ]
     },
     "metadata": {},
     "output_type": "display_data"
    },
    {
     "name": "stdout",
     "output_type": "stream",
     "text": [
      "<class 'pandas.core.frame.DataFrame'>\n",
      "RangeIndex: 30000 entries, 0 to 29999\n",
      "Data columns (total 6 columns):\n",
      " #   Column          Non-Null Count  Dtype  \n",
      "---  ------          --------------  -----  \n",
      " 0   pk_sales_order  30000 non-null  object \n",
      " 1   created_at      30000 non-null  object \n",
      " 2   currency        30000 non-null  object \n",
      " 3   currency_rate   30000 non-null  float64\n",
      " 4   country_code    30000 non-null  object \n",
      " 5   postal_code     29994 non-null  float64\n",
      "dtypes: float64(2), object(4)\n",
      "memory usage: 1.4+ MB\n",
      "pk_sales_order    0\n",
      "created_at        0\n",
      "currency          0\n",
      "currency_rate     0\n",
      "country_code      0\n",
      "postal_code       6\n",
      "dtype: int64\n"
     ]
    }
   ],
   "source": [
    "import pandas as pd\n",
    "import os\n",
    "\n",
    "# Paths\n",
    "in_path = \"in/tables/sales_order.csv\"\n",
    "out_path = \"out/tables/sales_order.csv\"\n",
    "os.makedirs(\"out/tables\", exist_ok=True)\n",
    "\n",
    "# Read CSV\n",
    "df = pd.read_csv(in_path)\n",
    "\n",
    "# Data inspection\n",
    "display(df.head())        # first rows - to see structure.\n",
    "df.info()                 # to see column types and null values\n",
    "print(df.isnull().sum())  # count missing"
   ]
  },
  {
   "cell_type": "code",
   "execution_count": 16,
   "metadata": {
    "tags": []
   },
   "outputs": [
    {
     "name": "stdout",
     "output_type": "stream",
     "text": [
      "pk_sales_order    0\n",
      "created_at        0\n",
      "currency          0\n",
      "currency_rate     0\n",
      "country_code      0\n",
      "postal_code       0\n",
      "dtype: int64\n"
     ]
    }
   ],
   "source": [
    "# Data cleaning\n",
    "\n",
    "# Drop rows with missing postal_code\n",
    "df = df.dropna(subset=[\"postal_code\"])\n",
    "\n",
    "# Check results\n",
    "print(df.isnull().sum())"
   ]
  },
  {
   "cell_type": "markdown",
   "metadata": {},
   "source": [
    "In the dataset there are only 6 missing postal codes out of ~30,000 rows, which is less than 0.02% of all records.\n",
    "From a statistical point of view, this fraction is negligible and does not affect the representativeness of the data.\n",
    "Because of this, I decided to remove those rows: keeping them does not add value, while deleting them simplifies the dataset and ensures that every record has a valid postal code for later analysis."
   ]
  },
  {
   "cell_type": "code",
   "execution_count": 17,
   "metadata": {
    "tags": []
   },
   "outputs": [
    {
     "name": "stdout",
     "output_type": "stream",
     "text": [
      "Saved to: out/tables/sales_order.csv\n"
     ]
    }
   ],
   "source": [
    "# Save cleaned data\n",
    "df.to_csv(out_path, index=False, encoding=\"utf-8\")\n",
    "print(f\"Saved to: {out_path}\")"
   ]
  },
  {
   "cell_type": "code",
   "execution_count": 18,
   "metadata": {
    "tags": []
   },
   "outputs": [
    {
     "data": {
      "text/html": [
       "<div>\n",
       "<style scoped>\n",
       "    .dataframe tbody tr th:only-of-type {\n",
       "        vertical-align: middle;\n",
       "    }\n",
       "\n",
       "    .dataframe tbody tr th {\n",
       "        vertical-align: top;\n",
       "    }\n",
       "\n",
       "    .dataframe thead th {\n",
       "        text-align: right;\n",
       "    }\n",
       "</style>\n",
       "<table border=\"1\" class=\"dataframe\">\n",
       "  <thead>\n",
       "    <tr style=\"text-align: right;\">\n",
       "      <th></th>\n",
       "      <th>pk_sales_order_item</th>\n",
       "      <th>fk_sales_order</th>\n",
       "      <th>fk_item</th>\n",
       "      <th>sold_qty</th>\n",
       "      <th>product_price_local_currency</th>\n",
       "      <th>product_cost_eur</th>\n",
       "    </tr>\n",
       "  </thead>\n",
       "  <tbody>\n",
       "    <tr>\n",
       "      <th>0</th>\n",
       "      <td>11b1949dd15de1bd4c6cb05d7d38ab91</td>\n",
       "      <td>7f83e787d514b3b8570e71e62b7f6b8c</td>\n",
       "      <td>f1f7bad6de9395164b730ec1f5e6b9e7</td>\n",
       "      <td>1.0</td>\n",
       "      <td>0.00</td>\n",
       "      <td>0.2700</td>\n",
       "    </tr>\n",
       "    <tr>\n",
       "      <th>1</th>\n",
       "      <td>c9d37fbe347994949a3bb23d775f778a</td>\n",
       "      <td>416546d2de986e03c06022de8e3e275d</td>\n",
       "      <td>b5f2355fbeef87460a5c89305d133a87</td>\n",
       "      <td>1.0</td>\n",
       "      <td>0.00</td>\n",
       "      <td>0.2700</td>\n",
       "    </tr>\n",
       "    <tr>\n",
       "      <th>2</th>\n",
       "      <td>ac178513a8221603b136960e90cdf211</td>\n",
       "      <td>ab7a5eb44c0b230a136903f4d17a9489</td>\n",
       "      <td>051ef5187f9da3ccb3c451980b2ca0a3</td>\n",
       "      <td>1.0</td>\n",
       "      <td>0.00</td>\n",
       "      <td>0.2700</td>\n",
       "    </tr>\n",
       "    <tr>\n",
       "      <th>3</th>\n",
       "      <td>a353ac0739b0c07451d817bab8d63311</td>\n",
       "      <td>9c6c8360032d5b43cf0b20ffcc977359</td>\n",
       "      <td>aa36501e64569cf48680edccc853cb0d</td>\n",
       "      <td>1.0</td>\n",
       "      <td>1251.97</td>\n",
       "      <td>1.6500</td>\n",
       "    </tr>\n",
       "    <tr>\n",
       "      <th>4</th>\n",
       "      <td>97eea3a2d006657335300d9df7c8760b</td>\n",
       "      <td>edd0bc7e15177da9f6614a4fddaeedc0</td>\n",
       "      <td>05e518308f9af3519d315beb9ad69bdf</td>\n",
       "      <td>1.0</td>\n",
       "      <td>2.75</td>\n",
       "      <td>0.8975</td>\n",
       "    </tr>\n",
       "  </tbody>\n",
       "</table>\n",
       "</div>"
      ],
      "text/plain": [
       "                pk_sales_order_item                    fk_sales_order  \\\n",
       "0  11b1949dd15de1bd4c6cb05d7d38ab91  7f83e787d514b3b8570e71e62b7f6b8c   \n",
       "1  c9d37fbe347994949a3bb23d775f778a  416546d2de986e03c06022de8e3e275d   \n",
       "2  ac178513a8221603b136960e90cdf211  ab7a5eb44c0b230a136903f4d17a9489   \n",
       "3  a353ac0739b0c07451d817bab8d63311  9c6c8360032d5b43cf0b20ffcc977359   \n",
       "4  97eea3a2d006657335300d9df7c8760b  edd0bc7e15177da9f6614a4fddaeedc0   \n",
       "\n",
       "                            fk_item  sold_qty  product_price_local_currency  \\\n",
       "0  f1f7bad6de9395164b730ec1f5e6b9e7       1.0                          0.00   \n",
       "1  b5f2355fbeef87460a5c89305d133a87       1.0                          0.00   \n",
       "2  051ef5187f9da3ccb3c451980b2ca0a3       1.0                          0.00   \n",
       "3  aa36501e64569cf48680edccc853cb0d       1.0                       1251.97   \n",
       "4  05e518308f9af3519d315beb9ad69bdf       1.0                          2.75   \n",
       "\n",
       "   product_cost_eur  \n",
       "0            0.2700  \n",
       "1            0.2700  \n",
       "2            0.2700  \n",
       "3            1.6500  \n",
       "4            0.8975  "
      ]
     },
     "metadata": {},
     "output_type": "display_data"
    },
    {
     "name": "stdout",
     "output_type": "stream",
     "text": [
      "<class 'pandas.core.frame.DataFrame'>\n",
      "RangeIndex: 132564 entries, 0 to 132563\n",
      "Data columns (total 6 columns):\n",
      " #   Column                        Non-Null Count   Dtype  \n",
      "---  ------                        --------------   -----  \n",
      " 0   pk_sales_order_item           132564 non-null  object \n",
      " 1   fk_sales_order                132564 non-null  object \n",
      " 2   fk_item                       132514 non-null  object \n",
      " 3   sold_qty                      132564 non-null  float64\n",
      " 4   product_price_local_currency  132564 non-null  float64\n",
      " 5   product_cost_eur              132564 non-null  float64\n",
      "dtypes: float64(3), object(3)\n",
      "memory usage: 6.1+ MB\n",
      "pk_sales_order_item              0\n",
      "fk_sales_order                   0\n",
      "fk_item                         50\n",
      "sold_qty                         0\n",
      "product_price_local_currency     0\n",
      "product_cost_eur                 0\n",
      "dtype: int64\n"
     ]
    }
   ],
   "source": [
    "# Paths\n",
    "in_path = \"in/tables/sales_items.csv\"\n",
    "out_path = \"out/tables/sales_items.csv\"\n",
    "os.makedirs(\"out/tables\", exist_ok=True)\n",
    "\n",
    "# Read CSV\n",
    "df = pd.read_csv(in_path)\n",
    "\n",
    "# Data inspection\n",
    "display(df.head())        # first rows - to see structure.\n",
    "df.info()                 # to see column types and null values\n",
    "print(df.isnull().sum())  # count missing"
   ]
  },
  {
   "cell_type": "code",
   "execution_count": 19,
   "metadata": {
    "tags": []
   },
   "outputs": [
    {
     "name": "stdout",
     "output_type": "stream",
     "text": [
      "Missing values after replacement:\n",
      "pk_sales_order_item             0\n",
      "fk_sales_order                  0\n",
      "fk_item                         0\n",
      "sold_qty                        0\n",
      "product_price_local_currency    0\n",
      "product_cost_eur                0\n",
      "dtype: int64\n"
     ]
    }
   ],
   "source": [
    "# replace missing fk_item with \"Unknown\"\n",
    "df[\"fk_item\"] = df[\"fk_item\"].fillna(\"Unknown\")\n",
    "\n",
    "# check results\n",
    "print(\"Missing values after replacement:\")\n",
    "print(df.isnull().sum())"
   ]
  },
  {
   "cell_type": "markdown",
   "metadata": {},
   "source": [
    "The column **`fk_item`** links each order item to a product.  \n",
    "About 50 rows (~0.17%) had missing values.  \n",
    "\n",
    "Instead of dropping them, I replaced nulls with **`Unknown`**:  \n",
    "- keeps all orders in the dataset,  \n",
    "- makes missing cases explicit and easy to filter out in product-level analysis,  \n",
    "- ensures BI tools show a clear \"Unknown\" category instead of silently losing rows.  "
   ]
  },
  {
   "cell_type": "code",
   "execution_count": 20,
   "metadata": {
    "tags": []
   },
   "outputs": [
    {
     "name": "stdout",
     "output_type": "stream",
     "text": [
      "Saved to: out/tables/sales_items.csv\n"
     ]
    }
   ],
   "source": [
    "# Save cleaned data\n",
    "df.to_csv(out_path, index=False, encoding=\"utf-8\")\n",
    "print(f\"Saved to: {out_path}\")"
   ]
  }
 ],
 "metadata": {
  "kernelspec": {
   "display_name": "Python3",
   "language": "python",
   "name": "python3"
  },
  "language_info": {
   "codemirror_mode": {
    "name": "ipython",
    "version": 3
   },
   "file_extension": ".py",
   "mimetype": "text/x-python",
   "name": "python",
   "nbconvert_exporter": "python",
   "pygments_lexer": "ipython3",
   "version": "3.10.10"
  }
 },
 "nbformat": 4,
 "nbformat_minor": 4
}
